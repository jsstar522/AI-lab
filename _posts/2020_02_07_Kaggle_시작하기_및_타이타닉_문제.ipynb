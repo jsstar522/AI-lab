{
  "nbformat": 4,
  "nbformat_minor": 0,
  "metadata": {
    "colab": {
      "name": "2020-02-07-Kaggle 시작하기 및 타이타닉 문제.ipynb",
      "provenance": [],
      "collapsed_sections": [],
      "authorship_tag": "ABX9TyMf2gmZiDnDHNkNCzlPSkOi",
      "include_colab_link": true
    },
    "kernelspec": {
      "name": "python3",
      "display_name": "Python 3"
    }
  },
  "cells": [
    {
      "cell_type": "markdown",
      "metadata": {
        "id": "view-in-github",
        "colab_type": "text"
      },
      "source": [
        "<a href=\"https://colab.research.google.com/github/jsstar522/AI-lab/blob/master/_posts/2020_02_07_Kaggle_%E1%84%89%E1%85%B5%E1%84%8C%E1%85%A1%E1%86%A8%E1%84%92%E1%85%A1%E1%84%80%E1%85%B5_%E1%84%86%E1%85%B5%E1%86%BE_%E1%84%90%E1%85%A1%E1%84%8B%E1%85%B5%E1%84%90%E1%85%A1%E1%84%82%E1%85%B5%E1%86%A8_%E1%84%86%E1%85%AE%E1%86%AB%EC%A0%9C.ipynb\" target=\"_parent\"><img src=\"https://colab.research.google.com/assets/colab-badge.svg\" alt=\"Open In Colab\"/></a>"
      ]
    },
    {
      "cell_type": "markdown",
      "metadata": {
        "id": "wyaSaW2vEqPv",
        "colab_type": "text"
      },
      "source": [
        "---\n",
        "layout: post\n",
        "title:  \"Kaggle 시작하기 및 타이타닉 문제\"\n",
        "date:   2020-02-07 07:52:00 +0900\n",
        "categories: [kaggle]\n",
        "use_math: true\n",
        "---"
      ]
    },
    {
      "cell_type": "markdown",
      "metadata": {
        "id": "EGkZ0xRoE2GW",
        "colab_type": "text"
      },
      "source": [
        "안녕하세요 테스트입니다."
      ]
    },
    {
      "cell_type": "code",
      "metadata": {
        "id": "pG0sR0dyE9MO",
        "colab_type": "code",
        "colab": {}
      },
      "source": [
        "print('Hello')"
      ],
      "execution_count": 0,
      "outputs": []
    }
  ]
}